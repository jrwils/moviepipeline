{
 "cells": [
  {
   "cell_type": "markdown",
   "metadata": {
    "editable": true
   },
   "source": [
    "# Data Collection and Organization for Movie Analytics\n",
    "### [Udacity Data Engineering Nanodegree](https://www.udacity.com/course/data-engineer-nanodegree--nd027) Capstone Project\n",
    "\n",
    "#### Project Summary\n",
    "This project combines movie data, including user ratings, from different sources in order to build a data model that includes historical movie titles, along with user ratings, genres and tagged attributes of each movie. From here, analysis can be performed to find movies that are most popular with users and which attributes and genres that popular titles fall under. This data may be valuable to a studio or distributor in order to map trends for titles that users enjoyed the most.\n",
    "\n",
    "The project follows the following steps:\n",
    "* Step 1: Scope the Project and Gather Data\n",
    "* Step 2: Explore and Assess the Data\n",
    "* Step 3: Define the Data Model\n",
    "* Step 4: Run ETL to Model the Data\n",
    "* Step 5: Complete Project Write Up"
   ]
  },
  {
   "cell_type": "markdown",
   "metadata": {
    "editable": true
   },
   "source": [
    "### Step 1: Scope the Project and Gather Data\n",
    "\n",
    "#### Scope\n",
    "The scope of this project is to take movie data, including user ratings, from different sources and to combine their data attributes per individual titles. This is being done in order to produce a more comprehensive data set than a single source can provide. The resulting data can then be used to run intelligence reporting regarding popularity for particular movies, genres, etc. The data will be read, organized and analyzed using [Apache Spark](https://spark.apache.org/).  \n",
    "\n",
    "#### Describe and Gather Data \n",
    "The data being used is from both [IMDB Datasets](https://www.imdb.com/interfaces/) and [MovieLens](https://grouplens.org/datasets/movielens/latest/). Both of these datasets are publicly available and together contain data for over 8 million titles, along with metadata on actors, crew and user ratings. Information about invididual fields are listed in each link.\n",
    "\n",
    "The IMDB Data Set consists of the following 7 tab-delimited files:\n",
    "\n",
    "<ul>\n",
    "    <li>title.basics.tsv.gz</li>\n",
    "    <li>title.akas.tsv.gz</li>\n",
    "    <li>title.crew.tsv.gz</li>\n",
    "    <li>title.episode.tsv.gz</li>\n",
    "    <li>title.principals.tsv.gz</li>\n",
    "    <li>title.ratings.tsv.gz</li>\n",
    "    <li>name.basics.tsv.gz</li>\n",
    "</ul>\n",
    "\n",
    "The MovieLens data consists of the following 6 .csv files:\n",
    "\n",
    "<ul>\n",
    "    <li>genome-scores.csv</li>\n",
    "    <li>genome-tags.csv</li>\n",
    "    <li>links.csv</li>\n",
    "    <li>movies.csv</li>\n",
    "    <li>ratings.csv</li>\n",
    "    <li>tags.csv</li>\n",
    "</ul>"
   ]
  },
  {
   "cell_type": "code",
   "execution_count": 16,
   "metadata": {},
   "outputs": [],
   "source": [
    "import os\n",
    "\n",
    "from pyspark.sql import SparkSession\n",
    "spark = SparkSession \\\n",
    "            .builder \\\n",
    "            .config(\n",
    "                \"spark.jars.packages\",\n",
    "                \"org.apache.hadoop:hadoop-aws:3.0.0\"\n",
    "            ) \\\n",
    "            .getOrCreate()"
   ]
  },
  {
   "cell_type": "markdown",
   "metadata": {
    "editable": true
   },
   "source": [
    "### Step 2: Explore and Assess the Data\n",
    "#### Explore the Data \n",
    "\n",
    "Let's take a look at each file to see how they are structured and identify how we can use them within the project.\n",
    "\n",
    "#### IMDB Data Files"
   ]
  },
  {
   "cell_type": "code",
   "execution_count": 3,
   "metadata": {},
   "outputs": [],
   "source": [
    "IMDB_SOURCE_DIR = \"s3a://moviepipeline/imdb/\"\n",
    "\n",
    "imdb_read_options = {\n",
    "    'sep': '\\t',\n",
    "    'header': True\n",
    "}"
   ]
  },
  {
   "cell_type": "markdown",
   "metadata": {},
   "source": [
    "`title.basics.tsv.gz`"
   ]
  },
  {
   "cell_type": "code",
   "execution_count": 4,
   "metadata": {},
   "outputs": [
    {
     "name": "stdout",
     "output_type": "stream",
     "text": [
      "+---------+---------+--------------------+--------------------+-------+---------+-------+--------------+--------------------+\n",
      "|   tconst|titleType|        primaryTitle|       originalTitle|isAdult|startYear|endYear|runtimeMinutes|              genres|\n",
      "+---------+---------+--------------------+--------------------+-------+---------+-------+--------------+--------------------+\n",
      "|tt0000001|    short|          Carmencita|          Carmencita|      0|     1894|     \\N|             1|   Documentary,Short|\n",
      "|tt0000002|    short|Le clown et ses c...|Le clown et ses c...|      0|     1892|     \\N|             5|     Animation,Short|\n",
      "|tt0000003|    short|      Pauvre Pierrot|      Pauvre Pierrot|      0|     1892|     \\N|             4|Animation,Comedy,...|\n",
      "|tt0000004|    short|         Un bon bock|         Un bon bock|      0|     1892|     \\N|            12|     Animation,Short|\n",
      "|tt0000005|    short|    Blacksmith Scene|    Blacksmith Scene|      0|     1893|     \\N|             1|        Comedy,Short|\n",
      "|tt0000006|    short|   Chinese Opium Den|   Chinese Opium Den|      0|     1894|     \\N|             1|               Short|\n",
      "|tt0000007|    short|Corbett and Court...|Corbett and Court...|      0|     1894|     \\N|             1|         Short,Sport|\n",
      "|tt0000008|    short|Edison Kinetoscop...|Edison Kinetoscop...|      0|     1894|     \\N|             1|   Documentary,Short|\n",
      "|tt0000009|    short|          Miss Jerry|          Miss Jerry|      0|     1894|     \\N|            40|       Romance,Short|\n",
      "|tt0000010|    short| Leaving the Factory|La sortie de l'us...|      0|     1895|     \\N|             1|   Documentary,Short|\n",
      "+---------+---------+--------------------+--------------------+-------+---------+-------+--------------+--------------------+\n",
      "only showing top 10 rows\n",
      "\n"
     ]
    }
   ],
   "source": [
    "imdb_title_basics_df = spark.read.options(\n",
    "    **imdb_read_options).csv(\n",
    "    os.path.join(IMDB_SOURCE_DIR, \"title.basics.tsv.gz\")\n",
    ")\n",
    "imdb_title_basics_df.show(10)"
   ]
  },
  {
   "cell_type": "markdown",
   "metadata": {},
   "source": [
    "It looks like the `titleType` field makes it apparent that there are more than movies in this data set. Let's see what values that field may hold:"
   ]
  },
  {
   "cell_type": "code",
   "execution_count": 5,
   "metadata": {},
   "outputs": [
    {
     "name": "stderr",
     "output_type": "stream",
     "text": [
      "                                                                                \r"
     ]
    },
    {
     "data": {
      "text/plain": [
       "[Row(titleType='tvSeries'),\n",
       " Row(titleType='tvMiniSeries'),\n",
       " Row(titleType='tvMovie'),\n",
       " Row(titleType='tvPilot'),\n",
       " Row(titleType='tvEpisode'),\n",
       " Row(titleType='movie'),\n",
       " Row(titleType='tvSpecial'),\n",
       " Row(titleType='video'),\n",
       " Row(titleType='videoGame'),\n",
       " Row(titleType='tvShort'),\n",
       " Row(titleType='short'),\n",
       " Row(titleType='radioEpisode')]"
      ]
     },
     "execution_count": 5,
     "metadata": {},
     "output_type": "execute_result"
    }
   ],
   "source": [
    "imdb_title_basics_df.select(\"titleType\").distinct().collect()"
   ]
  },
  {
   "cell_type": "markdown",
   "metadata": {},
   "source": [
    "`title.akas.tsv.gz`"
   ]
  },
  {
   "cell_type": "code",
   "execution_count": 6,
   "metadata": {},
   "outputs": [
    {
     "name": "stdout",
     "output_type": "stream",
     "text": [
      "+---------+--------+--------------------+------+--------+-----------+-------------+---------------+\n",
      "|  titleId|ordering|               title|region|language|      types|   attributes|isOriginalTitle|\n",
      "+---------+--------+--------------------+------+--------+-----------+-------------+---------------+\n",
      "|tt0000001|       1|          Карменсіта|    UA|      \\N|imdbDisplay|           \\N|              0|\n",
      "|tt0000001|       2|          Carmencita|    DE|      \\N|         \\N|literal title|              0|\n",
      "|tt0000001|       3|Carmencita - span...|    HU|      \\N|imdbDisplay|           \\N|              0|\n",
      "|tt0000001|       4|          Καρμενσίτα|    GR|      \\N|imdbDisplay|           \\N|              0|\n",
      "|tt0000001|       5|          Карменсита|    RU|      \\N|imdbDisplay|           \\N|              0|\n",
      "|tt0000001|       6|          Carmencita|    US|      \\N|imdbDisplay|           \\N|              0|\n",
      "|tt0000001|       7|          Carmencita|    \\N|      \\N|   original|           \\N|              1|\n",
      "|tt0000001|       8|      カルメンチータ|    JP|      ja|imdbDisplay|           \\N|              0|\n",
      "|tt0000002|       1|Le clown et ses c...|    \\N|      \\N|   original|           \\N|              1|\n",
      "|tt0000002|       2|Le clown et ses c...|    FR|      \\N|imdbDisplay|           \\N|              0|\n",
      "+---------+--------+--------------------+------+--------+-----------+-------------+---------------+\n",
      "only showing top 10 rows\n",
      "\n"
     ]
    }
   ],
   "source": [
    "imdb_title_akas_df = spark.read.options(\n",
    "    **imdb_read_options).csv(\n",
    "    os.path.join(IMDB_SOURCE_DIR, \"title.akas.tsv.gz\")\n",
    ")\n",
    "imdb_title_akas_df.show(10)"
   ]
  },
  {
   "cell_type": "markdown",
   "metadata": {},
   "source": [
    "At first glance, it looks like this file contains alternate titles in different languages for worldwide regions. This is out of the scope of this project, so we will not use this file."
   ]
  },
  {
   "cell_type": "markdown",
   "metadata": {},
   "source": [
    "`name.basics.tsv.gz`"
   ]
  },
  {
   "cell_type": "code",
   "execution_count": 7,
   "metadata": {},
   "outputs": [
    {
     "name": "stdout",
     "output_type": "stream",
     "text": [
      "+---------+---------------+---------+---------+--------------------+--------------------+\n",
      "|   nconst|    primaryName|birthYear|deathYear|   primaryProfession|      knownForTitles|\n",
      "+---------+---------------+---------+---------+--------------------+--------------------+\n",
      "|nm0000001|   Fred Astaire|     1899|     1987|soundtrack,actor,...|tt0053137,tt00504...|\n",
      "|nm0000002|  Lauren Bacall|     1924|     2014|  actress,soundtrack|tt0071877,tt01170...|\n",
      "|nm0000003|Brigitte Bardot|     1934|       \\N|actress,soundtrac...|tt0049189,tt00573...|\n",
      "|nm0000004|   John Belushi|     1949|     1982|actor,soundtrack,...|tt0080455,tt00787...|\n",
      "|nm0000005| Ingmar Bergman|     1918|     2007|writer,director,a...|tt0050986,tt00509...|\n",
      "|nm0000006| Ingrid Bergman|     1915|     1982|actress,soundtrac...|tt0034583,tt00777...|\n",
      "|nm0000007|Humphrey Bogart|     1899|     1957|actor,soundtrack,...|tt0033870,tt00345...|\n",
      "|nm0000008|  Marlon Brando|     1924|     2004|actor,soundtrack,...|tt0078788,tt00708...|\n",
      "|nm0000009| Richard Burton|     1925|     1984|actor,soundtrack,...|tt0061184,tt00597...|\n",
      "|nm0000010|   James Cagney|     1899|     1986|actor,soundtrack,...|tt0042041,tt00298...|\n",
      "+---------+---------------+---------+---------+--------------------+--------------------+\n",
      "only showing top 10 rows\n",
      "\n"
     ]
    }
   ],
   "source": [
    "imdb_name_basics_df = spark.read.options(\n",
    "    **imdb_read_options).csv(\n",
    "    os.path.join(IMDB_SOURCE_DIR, \"name.basics.tsv.gz\")\n",
    ")\n",
    "imdb_name_basics_df.show(10)"
   ]
  },
  {
   "cell_type": "markdown",
   "metadata": {},
   "source": [
    "This file contains names, along with unique identifiers, to identify actors, directors, etc. This looks like it will be used to join people to their individual movie titles. "
   ]
  },
  {
   "cell_type": "markdown",
   "metadata": {},
   "source": [
    "`title.principals.tsv.gz`"
   ]
  },
  {
   "cell_type": "code",
   "execution_count": 8,
   "metadata": {},
   "outputs": [
    {
     "name": "stdout",
     "output_type": "stream",
     "text": [
      "+---------+--------+---------+---------------+--------------------+----------+\n",
      "|   tconst|ordering|   nconst|       category|                 job|characters|\n",
      "+---------+--------+---------+---------------+--------------------+----------+\n",
      "|tt0000001|       1|nm1588970|           self|                  \\N|  [\"Self\"]|\n",
      "|tt0000001|       2|nm0005690|       director|                  \\N|        \\N|\n",
      "|tt0000001|       3|nm0374658|cinematographer|director of photo...|        \\N|\n",
      "|tt0000002|       1|nm0721526|       director|                  \\N|        \\N|\n",
      "|tt0000002|       2|nm1335271|       composer|                  \\N|        \\N|\n",
      "|tt0000003|       1|nm0721526|       director|                  \\N|        \\N|\n",
      "|tt0000003|       2|nm1770680|       producer|            producer|        \\N|\n",
      "|tt0000003|       3|nm1335271|       composer|                  \\N|        \\N|\n",
      "|tt0000003|       4|nm5442200|         editor|                  \\N|        \\N|\n",
      "|tt0000004|       1|nm0721526|       director|                  \\N|        \\N|\n",
      "+---------+--------+---------+---------------+--------------------+----------+\n",
      "only showing top 10 rows\n",
      "\n"
     ]
    }
   ],
   "source": [
    "imdb_title_principals_df = spark.read.options(\n",
    "    **imdb_read_options).csv(\n",
    "    os.path.join(IMDB_SOURCE_DIR, \"title.principals.tsv.gz\")\n",
    ")\n",
    "imdb_title_principals_df.show(10)"
   ]
  },
  {
   "cell_type": "markdown",
   "metadata": {},
   "source": [
    "After looking at the contents of this file, it is apparent that this is a lookup file that is used to join the names of people in the `name.basics.tsv.gz` to their respective titles in the `title.basics.tsv.gz` files. This is done via the `tconst` and `nconst` keys. For example, the `nconst` identifier *nm0005690* for the category of director on `tconst` title *tt0000001* looks like so:"
   ]
  },
  {
   "cell_type": "code",
   "execution_count": 9,
   "metadata": {},
   "outputs": [
    {
     "data": {
      "text/plain": [
       "Row(tconst='tt0000001', ordering='2', nconst='nm0005690', category='director', job='\\\\N', characters='\\\\N')"
      ]
     },
     "execution_count": 9,
     "metadata": {},
     "output_type": "execute_result"
    }
   ],
   "source": [
    "imdb_title_principals_df.where(\"tconst = 'tt0000001' and nconst = 'nm0005690' and category = 'director'\").first()"
   ]
  },
  {
   "cell_type": "markdown",
   "metadata": {},
   "source": [
    "If we look up that `nconst` value in the `name` file, we can see who the director is for that title:"
   ]
  },
  {
   "cell_type": "code",
   "execution_count": 10,
   "metadata": {},
   "outputs": [
    {
     "data": {
      "text/plain": [
       "Row(nconst='nm0005690', primaryName='William K.L. Dickson', birthYear='1860', deathYear='1935', primaryProfession='cinematographer,director,producer', knownForTitles='tt1428455,tt1496763,tt0308254,tt0219560')"
      ]
     },
     "execution_count": 10,
     "metadata": {},
     "output_type": "execute_result"
    }
   ],
   "source": [
    "imdb_name_basics_df.where(\"nconst = 'nm0005690'\").first()"
   ]
  },
  {
   "cell_type": "markdown",
   "metadata": {},
   "source": [
    "`title.crew.tsv.gz`"
   ]
  },
  {
   "cell_type": "code",
   "execution_count": 11,
   "metadata": {},
   "outputs": [
    {
     "name": "stdout",
     "output_type": "stream",
     "text": [
      "+---------+-------------------+---------+\n",
      "|   tconst|          directors|  writers|\n",
      "+---------+-------------------+---------+\n",
      "|tt0000001|          nm0005690|       \\N|\n",
      "|tt0000002|          nm0721526|       \\N|\n",
      "|tt0000003|          nm0721526|       \\N|\n",
      "|tt0000004|          nm0721526|       \\N|\n",
      "|tt0000005|          nm0005690|       \\N|\n",
      "|tt0000006|          nm0005690|       \\N|\n",
      "|tt0000007|nm0005690,nm0374658|       \\N|\n",
      "|tt0000008|          nm0005690|       \\N|\n",
      "|tt0000009|          nm0085156|nm0085156|\n",
      "|tt0000010|          nm0525910|       \\N|\n",
      "+---------+-------------------+---------+\n",
      "only showing top 10 rows\n",
      "\n"
     ]
    }
   ],
   "source": [
    "imdb_title_crew_df = spark.read.options(\n",
    "    **imdb_read_options).csv(\n",
    "    os.path.join(IMDB_SOURCE_DIR, \"title.crew.tsv.gz\")\n",
    ")\n",
    "imdb_title_crew_df.show(10)"
   ]
  },
  {
   "cell_type": "markdown",
   "metadata": {},
   "source": [
    "From the description in the data from the [IMDB](https://www.imdb.com/interfaces/) site, this file contains the directors and writers for each title in the data set. The `principals` file looked like it contained this information as well. Let's do a quick spot check:"
   ]
  },
  {
   "cell_type": "code",
   "execution_count": 12,
   "metadata": {},
   "outputs": [
    {
     "data": {
      "text/plain": [
       "Row(tconst='tt0000001', directors='nm0005690', writers='\\\\N')"
      ]
     },
     "execution_count": 12,
     "metadata": {},
     "output_type": "execute_result"
    }
   ],
   "source": [
    "imdb_title_crew_df.where(\"tconst='tt0000001'\").first()"
   ]
  },
  {
   "cell_type": "markdown",
   "metadata": {},
   "source": [
    "It looks like the director for title *tt0000001* is also linked in the `principals` file, which means that the `crew` file appears to have this data duplicated. For this reason, we will choose not to use this file."
   ]
  },
  {
   "cell_type": "markdown",
   "metadata": {},
   "source": [
    "`title.episode.tsv.gz`"
   ]
  },
  {
   "cell_type": "code",
   "execution_count": 13,
   "metadata": {},
   "outputs": [
    {
     "name": "stdout",
     "output_type": "stream",
     "text": [
      "+---------+------------+------------+-------------+\n",
      "|   tconst|parentTconst|seasonNumber|episodeNumber|\n",
      "+---------+------------+------------+-------------+\n",
      "|tt0020666|  tt15180956|           1|            2|\n",
      "|tt0021166|  tt15180956|           1|            3|\n",
      "|tt0021612|  tt15180956|           2|            2|\n",
      "|tt0021655|  tt15180956|           2|            5|\n",
      "|tt0021663|  tt15180956|           2|            6|\n",
      "|tt0021664|  tt15180956|           2|            4|\n",
      "|tt0021701|  tt15180956|           2|            1|\n",
      "|tt0021802|  tt15180956|           2|           11|\n",
      "|tt0022009|  tt15180956|           2|           10|\n",
      "|tt0022031|  tt15180956|           2|            8|\n",
      "+---------+------------+------------+-------------+\n",
      "only showing top 10 rows\n",
      "\n"
     ]
    }
   ],
   "source": [
    "imdb_title_episode_df = spark.read.options(\n",
    "    **imdb_read_options).csv(\n",
    "    os.path.join(IMDB_SOURCE_DIR, \"title.episode.tsv.gz\")\n",
    ")\n",
    "imdb_title_episode_df.show(10)"
   ]
  },
  {
   "cell_type": "markdown",
   "metadata": {},
   "source": [
    "From looking at a sample of the `episode` data file and from the description on the [IMDB](https://www.imdb.com/interfaces/) site, it appears that the records in this file represent episode in televsion shows. Since we are building a pipeline for movies only, we do not need to use this file in this project."
   ]
  },
  {
   "cell_type": "markdown",
   "metadata": {},
   "source": [
    "`title.ratings.tsv.gz`"
   ]
  },
  {
   "cell_type": "code",
   "execution_count": 14,
   "metadata": {},
   "outputs": [
    {
     "name": "stdout",
     "output_type": "stream",
     "text": [
      "+---------+-------------+--------+\n",
      "|   tconst|averageRating|numVotes|\n",
      "+---------+-------------+--------+\n",
      "|tt0000001|          5.7|    1825|\n",
      "|tt0000002|          6.0|     233|\n",
      "|tt0000003|          6.5|    1576|\n",
      "|tt0000004|          6.1|     151|\n",
      "|tt0000005|          6.2|    2404|\n",
      "|tt0000006|          5.2|     156|\n",
      "|tt0000007|          5.4|     750|\n",
      "|tt0000008|          5.5|    1977|\n",
      "|tt0000009|          5.9|     190|\n",
      "|tt0000010|          6.9|    6572|\n",
      "+---------+-------------+--------+\n",
      "only showing top 10 rows\n",
      "\n"
     ]
    }
   ],
   "source": [
    "imdb_title_ratings_df = spark.read.options(\n",
    "    **imdb_read_options).csv(\n",
    "    os.path.join(IMDB_SOURCE_DIR, \"title.ratings.tsv.gz\")\n",
    ")\n",
    "imdb_title_ratings_df.show(10)"
   ]
  },
  {
   "cell_type": "markdown",
   "metadata": {},
   "source": [
    "It looks like this file contains the average user ratings for titles, along with how many votes the title has received. We will use this file to include in our final data set, since we are interested in user ratings for analytical purposes."
   ]
  },
  {
   "cell_type": "markdown",
   "metadata": {},
   "source": [
    "#### MovieLens/GroupLens Data Files"
   ]
  },
  {
   "cell_type": "markdown",
   "metadata": {},
   "source": [
    "`movies.csv`"
   ]
  },
  {
   "cell_type": "code",
   "execution_count": 15,
   "metadata": {},
   "outputs": [],
   "source": [
    "ML_SOURCE_DIR = \"s3a://moviepipeline/grouplens/\""
   ]
  },
  {
   "cell_type": "code",
   "execution_count": 16,
   "metadata": {},
   "outputs": [
    {
     "name": "stdout",
     "output_type": "stream",
     "text": [
      "+-------+--------------------+--------------------+\n",
      "|movieId|               title|              genres|\n",
      "+-------+--------------------+--------------------+\n",
      "|      1|    Toy Story (1995)|Adventure|Animati...|\n",
      "|      2|      Jumanji (1995)|Adventure|Childre...|\n",
      "|      3|Grumpier Old Men ...|      Comedy|Romance|\n",
      "|      4|Waiting to Exhale...|Comedy|Drama|Romance|\n",
      "|      5|Father of the Bri...|              Comedy|\n",
      "+-------+--------------------+--------------------+\n",
      "only showing top 5 rows\n",
      "\n"
     ]
    }
   ],
   "source": [
    "ml_movies_df = spark.read.options(header=True).csv(os.path.join(ML_SOURCE_DIR, \"movies.csv\"))\n",
    "ml_movies_df.show(5)"
   ]
  },
  {
   "cell_type": "markdown",
   "metadata": {},
   "source": [
    "It is apparent that this is where each movie title is defined. From looking at the data, this file violates First Normal Form by containing multi-value fields (such as having the year in the title). This will need to be cleaned before this data can be used."
   ]
  },
  {
   "cell_type": "markdown",
   "metadata": {},
   "source": [
    "`links.csv`"
   ]
  },
  {
   "cell_type": "code",
   "execution_count": 17,
   "metadata": {},
   "outputs": [
    {
     "name": "stdout",
     "output_type": "stream",
     "text": [
      "+-------+-------+------+\n",
      "|movieId| imdbId|tmdbId|\n",
      "+-------+-------+------+\n",
      "|      1|0114709|   862|\n",
      "|      2|0113497|  8844|\n",
      "|      3|0113228| 15602|\n",
      "|      4|0114885| 31357|\n",
      "|      5|0113041| 11862|\n",
      "+-------+-------+------+\n",
      "only showing top 5 rows\n",
      "\n"
     ]
    }
   ],
   "source": [
    "ml_links_df = spark.read.options(header=True).csv(os.path.join(ML_SOURCE_DIR, \"links.csv\"))\n",
    "ml_links_df.show(5)"
   ]
  },
  {
   "cell_type": "markdown",
   "metadata": {},
   "source": [
    "This is great - here we have a link to the IMDB id that is used in the IMDB data file. This will allow us to join the two data sets much more directly than by title. Let's do a spot check to make sure that the IDs are correct (note that the IMBD id's are prepended with 'tt'):"
   ]
  },
  {
   "cell_type": "code",
   "execution_count": 18,
   "metadata": {},
   "outputs": [
    {
     "data": {
      "text/plain": [
       "Row(tconst='tt0114709', titleType='movie', primaryTitle='Toy Story', originalTitle='Toy Story', isAdult='0', startYear='1995', endYear='\\\\N', runtimeMinutes='81', genres='Adventure,Animation,Comedy')"
      ]
     },
     "execution_count": 18,
     "metadata": {},
     "output_type": "execute_result"
    }
   ],
   "source": [
    "imdb_title_basics_df.where(\"tconst = 'tt0114709'\").first()"
   ]
  },
  {
   "cell_type": "code",
   "execution_count": 19,
   "metadata": {},
   "outputs": [
    {
     "data": {
      "text/plain": [
       "Row(movieId='1', imdbId='0114709', tmdbId='862')"
      ]
     },
     "execution_count": 19,
     "metadata": {},
     "output_type": "execute_result"
    }
   ],
   "source": [
    "ml_links_df.where(\"imdbId = '0114709'\").first()"
   ]
  },
  {
   "cell_type": "code",
   "execution_count": 20,
   "metadata": {},
   "outputs": [
    {
     "data": {
      "text/plain": [
       "Row(movieId='1', title='Toy Story (1995)', genres='Adventure|Animation|Children|Comedy|Fantasy')"
      ]
     },
     "execution_count": 20,
     "metadata": {},
     "output_type": "execute_result"
    }
   ],
   "source": [
    "ml_movies_df.where(\"movieId = '1'\").first()"
   ]
  },
  {
   "cell_type": "markdown",
   "metadata": {},
   "source": [
    "ID number *0114709* pulled up the movie *Toy Story* in both data sets. We can be reasonably sure that the ID links between the data sets are correct."
   ]
  },
  {
   "cell_type": "markdown",
   "metadata": {},
   "source": [
    "`tags.csv`"
   ]
  },
  {
   "cell_type": "code",
   "execution_count": 21,
   "metadata": {},
   "outputs": [
    {
     "name": "stdout",
     "output_type": "stream",
     "text": [
      "+------+-------+------------+----------+\n",
      "|userId|movieId|         tag| timestamp|\n",
      "+------+-------+------------+----------+\n",
      "|    14|    110|        epic|1443148538|\n",
      "|    14|    110|    Medieval|1443148532|\n",
      "|    14|    260|      sci-fi|1442169410|\n",
      "|    14|    260|space action|1442169421|\n",
      "|    14|    318|imdb top 250|1442615195|\n",
      "+------+-------+------------+----------+\n",
      "only showing top 5 rows\n",
      "\n"
     ]
    }
   ],
   "source": [
    "ml_tags_df = spark.read.options(header=True).csv(os.path.join(ML_SOURCE_DIR, \"tags.csv\"))\n",
    "ml_tags_df.show(5)"
   ]
  },
  {
   "cell_type": "markdown",
   "metadata": {},
   "source": [
    "This file shows different tags added by users. These may be useful to in our model to allow analysis by tag."
   ]
  },
  {
   "cell_type": "markdown",
   "metadata": {},
   "source": [
    "`ratings.csv`"
   ]
  },
  {
   "cell_type": "code",
   "execution_count": 22,
   "metadata": {},
   "outputs": [
    {
     "name": "stdout",
     "output_type": "stream",
     "text": [
      "+------+-------+------+----------+\n",
      "|userId|movieId|rating| timestamp|\n",
      "+------+-------+------+----------+\n",
      "|     1|    307|   3.5|1256677221|\n",
      "|     1|    481|   3.5|1256677456|\n",
      "|     1|   1091|   1.5|1256677471|\n",
      "|     1|   1257|   4.5|1256677460|\n",
      "|     1|   1449|   4.5|1256677264|\n",
      "+------+-------+------+----------+\n",
      "only showing top 5 rows\n",
      "\n"
     ]
    }
   ],
   "source": [
    "ml_ratings_df = spark.read.options(header=True).csv(os.path.join(ML_SOURCE_DIR, \"ratings.csv\"))\n",
    "ml_ratings_df.show(5)"
   ]
  },
  {
   "cell_type": "markdown",
   "metadata": {},
   "source": [
    "Unlike the ratings in the IMDB file, which are aggregated, this file contains individual ratings on a user level. We do not need to get that granular for this project, so we will probably need to average out ratings on a per-movie basis. It also looks like these ratings are on a scale of 5 while the IMDB ratings are on a scale of 10. Let's check that in the data:"
   ]
  },
  {
   "cell_type": "code",
   "execution_count": 23,
   "metadata": {},
   "outputs": [
    {
     "name": "stderr",
     "output_type": "stream",
     "text": [
      "                                                                                \r"
     ]
    },
    {
     "data": {
      "text/plain": [
       "[Row(rating='1.0'),\n",
       " Row(rating='4.5'),\n",
       " Row(rating='2.5'),\n",
       " Row(rating='3.5'),\n",
       " Row(rating='5.0'),\n",
       " Row(rating='0.5'),\n",
       " Row(rating='4.0'),\n",
       " Row(rating='1.5'),\n",
       " Row(rating='2.0'),\n",
       " Row(rating='3.0')]"
      ]
     },
     "execution_count": 23,
     "metadata": {},
     "output_type": "execute_result"
    }
   ],
   "source": [
    "ml_ratings_df.select(\"rating\").distinct().collect()"
   ]
  },
  {
   "cell_type": "code",
   "execution_count": 24,
   "metadata": {},
   "outputs": [
    {
     "name": "stderr",
     "output_type": "stream",
     "text": [
      "                                                                                \r"
     ]
    },
    {
     "data": {
      "text/plain": [
       "[Row(averageRating='8.5'),\n",
       " Row(averageRating='1.0'),\n",
       " Row(averageRating='8.2'),\n",
       " Row(averageRating='2.6'),\n",
       " Row(averageRating='7.3'),\n",
       " Row(averageRating='3.1'),\n",
       " Row(averageRating='8.3'),\n",
       " Row(averageRating='4.2'),\n",
       " Row(averageRating='9.2'),\n",
       " Row(averageRating='6.1'),\n",
       " Row(averageRating='4.4'),\n",
       " Row(averageRating='3.8'),\n",
       " Row(averageRating='2.7'),\n",
       " Row(averageRating='1.7'),\n",
       " Row(averageRating='8.1'),\n",
       " Row(averageRating='2.9'),\n",
       " Row(averageRating='4.5'),\n",
       " Row(averageRating='6.2'),\n",
       " Row(averageRating='9.6'),\n",
       " Row(averageRating='6.5'),\n",
       " Row(averageRating='7.5'),\n",
       " Row(averageRating='2.5'),\n",
       " Row(averageRating='2.4'),\n",
       " Row(averageRating='5.4'),\n",
       " Row(averageRating='4.9'),\n",
       " Row(averageRating='7.7'),\n",
       " Row(averageRating='3.4'),\n",
       " Row(averageRating='1.6'),\n",
       " Row(averageRating='7.1'),\n",
       " Row(averageRating='5.7'),\n",
       " Row(averageRating='9.0'),\n",
       " Row(averageRating='3.3'),\n",
       " Row(averageRating='1.8'),\n",
       " Row(averageRating='5.3'),\n",
       " Row(averageRating='10.0'),\n",
       " Row(averageRating='4.3'),\n",
       " Row(averageRating='3.5'),\n",
       " Row(averageRating='4.8'),\n",
       " Row(averageRating='8.9'),\n",
       " Row(averageRating='9.1'),\n",
       " Row(averageRating='9.5'),\n",
       " Row(averageRating='7.4'),\n",
       " Row(averageRating='4.1'),\n",
       " Row(averageRating='5.6'),\n",
       " Row(averageRating='1.4'),\n",
       " Row(averageRating='4.6'),\n",
       " Row(averageRating='5.0'),\n",
       " Row(averageRating='6.0'),\n",
       " Row(averageRating='7.8'),\n",
       " Row(averageRating='9.9'),\n",
       " Row(averageRating='9.8'),\n",
       " Row(averageRating='8.4'),\n",
       " Row(averageRating='4.0'),\n",
       " Row(averageRating='1.9'),\n",
       " Row(averageRating='9.4'),\n",
       " Row(averageRating='7.0'),\n",
       " Row(averageRating='1.3'),\n",
       " Row(averageRating='8.7'),\n",
       " Row(averageRating='3.6'),\n",
       " Row(averageRating='7.6'),\n",
       " Row(averageRating='7.9'),\n",
       " Row(averageRating='8.8'),\n",
       " Row(averageRating='8.6'),\n",
       " Row(averageRating='1.5'),\n",
       " Row(averageRating='2.8'),\n",
       " Row(averageRating='6.6'),\n",
       " Row(averageRating='6.9'),\n",
       " Row(averageRating='2.0'),\n",
       " Row(averageRating='3.2'),\n",
       " Row(averageRating='2.2'),\n",
       " Row(averageRating='9.7'),\n",
       " Row(averageRating='3.7'),\n",
       " Row(averageRating='8.0'),\n",
       " Row(averageRating='1.1'),\n",
       " Row(averageRating='9.3'),\n",
       " Row(averageRating='5.5'),\n",
       " Row(averageRating='4.7'),\n",
       " Row(averageRating='5.2'),\n",
       " Row(averageRating='6.3'),\n",
       " Row(averageRating='5.8'),\n",
       " Row(averageRating='2.3'),\n",
       " Row(averageRating='6.8'),\n",
       " Row(averageRating='5.1'),\n",
       " Row(averageRating='3.0'),\n",
       " Row(averageRating='2.1'),\n",
       " Row(averageRating='1.2'),\n",
       " Row(averageRating='6.7'),\n",
       " Row(averageRating='5.9'),\n",
       " Row(averageRating='7.2'),\n",
       " Row(averageRating='6.4'),\n",
       " Row(averageRating='3.9')]"
      ]
     },
     "execution_count": 24,
     "metadata": {},
     "output_type": "execute_result"
    }
   ],
   "source": [
    "imdb_title_ratings_df.select(\"averageRating\").distinct().collect()"
   ]
  },
  {
   "cell_type": "markdown",
   "metadata": {},
   "source": [
    "Yes, it looks like the differences in scale that we thought was true is does exist. We will need to make a note of this when doing calculations."
   ]
  },
  {
   "cell_type": "markdown",
   "metadata": {},
   "source": [
    "`genome_scores.csv`"
   ]
  },
  {
   "cell_type": "code",
   "execution_count": 25,
   "metadata": {},
   "outputs": [
    {
     "name": "stdout",
     "output_type": "stream",
     "text": [
      "+-------+-----+--------------------+\n",
      "|movieId|tagId|           relevance|\n",
      "+-------+-----+--------------------+\n",
      "|      1|    1|0.029000000000000026|\n",
      "|      1|    2|0.023749999999999993|\n",
      "|      1|    3| 0.05425000000000002|\n",
      "|      1|    4| 0.06874999999999998|\n",
      "|      1|    5| 0.15999999999999998|\n",
      "+-------+-----+--------------------+\n",
      "only showing top 5 rows\n",
      "\n"
     ]
    }
   ],
   "source": [
    "ml_genome_scores_df = spark.read.options(header=True).csv(os.path.join(ML_SOURCE_DIR, \"genome-scores.csv\"))\n",
    "ml_genome_scores_df.show(5)"
   ]
  },
  {
   "cell_type": "markdown",
   "metadata": {},
   "source": [
    "It looks like this file joins movie IDs and tags (presumably in the `genome-tags.csv` file, since this is the `genome-scores.csv` file. Let's see what the `genome-tags.csv` file contains."
   ]
  },
  {
   "cell_type": "code",
   "execution_count": 26,
   "metadata": {},
   "outputs": [
    {
     "name": "stdout",
     "output_type": "stream",
     "text": [
      "+-----+------------+\n",
      "|tagId|         tag|\n",
      "+-----+------------+\n",
      "|    1|         007|\n",
      "|    2|007 (series)|\n",
      "|    3|18th century|\n",
      "|    4|       1920s|\n",
      "|    5|       1930s|\n",
      "+-----+------------+\n",
      "only showing top 5 rows\n",
      "\n"
     ]
    }
   ],
   "source": [
    "ml_genome_tags_df = spark.read.options(header=True).csv(os.path.join(ML_SOURCE_DIR, \"genome-tags.csv\"))\n",
    "ml_genome_tags_df.show(5)"
   ]
  },
  {
   "cell_type": "markdown",
   "metadata": {},
   "source": [
    "It looks like this is the lookup file for the data in the `genome-scores` file. Reading the description on the [GroupLens](https://files.grouplens.org/datasets/movielens/ml-latest-README.html) site about the data, genome scores and tags are assigned by a Machine Learning algorithm, and more information can be found in [this article](http://files.grouplens.org/papers/tag_genome.pdf)."
   ]
  },
  {
   "cell_type": "markdown",
   "metadata": {},
   "source": [
    "All of the data above are read into DataFrame objects in the `read_imdb_source_files` and `read_movielens_source_files` methods in the pipeline's code."
   ]
  },
  {
   "cell_type": "markdown",
   "metadata": {
    "editable": true
   },
   "source": [
    "#### Cleaning Steps\n",
    "Once the data is loaded, the following cleaning steps are taken before loading the data into the model:"
   ]
  },
  {
   "cell_type": "markdown",
   "metadata": {},
   "source": [
    "1. Since we are only interested in movies, let's limit the `imdb_title_basics_df` DataFrame to only contain records where `titleType` is `movie`. This is done in the `clean_imdb_title_basics` method."
   ]
  },
  {
   "cell_type": "markdown",
   "metadata": {},
   "source": [
    "2. In the GroupLens `movies.csv` file, we saw that First Normal Form was violated by having the year in the same field as the title as well as the genres being pipe-delimited. Let's take care of those two issues by splitting the year and title data as well as turning the genres into an array. This is done in the `clean_ml_movies_title` and `clean_ml_movies_genres` methods."
   ]
  },
  {
   "cell_type": "markdown",
   "metadata": {},
   "source": [
    "3. We saw that in the IMDB files, ID numbers are prepended 'tt' and 'nm' values. We want to remove those prepended characters so that the values are numeric and so that they match the IMDB id references from the MovieLens data set. This is done in the `clean_imdb_title_ids` and `clean_imdb_name_ids` methods."
   ]
  },
  {
   "cell_type": "markdown",
   "metadata": {},
   "source": [
    "4. The genres of the IMDB `title.basics.tsv.gz` file also need to be split into an array like we did with the MovieLens genres. This is done in the `clean_imdb_genres` method."
   ]
  },
  {
   "cell_type": "markdown",
   "metadata": {},
   "source": [
    "5. We saw that when exploring the MovieLens ratings, the entries of the file are individual ratings actions by users. We do not need to get that granular, and would rather have them aggregated by title. This is done in the `clean_movielens_ratings` method."
   ]
  },
  {
   "cell_type": "markdown",
   "metadata": {
    "editable": true
   },
   "source": [
    "### Step 3: Define the Data Model\n",
    "#### 3.1 Conceptual Data Model\n",
    "The data model that has been developed to organize the raw data is as follows:\n",
    "\n",
    "![Data Model](modeldiagram.png)\n",
    "\n",
    "Since the MovieLens data set is smaller than the IMDB data set and references the IMDB id, I decided to use the IMDB id as the primary identifier for movies. I also decided on lookup tables for the tag, crew and genre data in order to minimize duplication and simplify querying by these attributes. "
   ]
  },
  {
   "cell_type": "markdown",
   "metadata": {},
   "source": [
    "#### 3.2 Mapping Out Data Pipelines\n",
    "The steps that are needed to pipeline the data into the chosen data model are:\n",
    "\n",
    "<ul>\n",
    "    <li>Create a movie DataFrame based on the data in imdb_title_basics_df.</li>\n",
    "    <li>Calculate the individual ratings from the ml_ratings_df DataFrame into the IMDB rating to get a weighted average of the two. This will populate the average_rating field in the movie DataFrame.</li>\n",
    "    <li>Collect the IMDB ids and movie genres from both the imdb_title_basics_df DataFrame and the ml_movies_df DataFrame to populate moviegenre.</li>\n",
    "    <li>Create a name DataFrame based on the imdb_name_basics DataFrame that includes the fields needed for the model.</li>\n",
    "    <li>Create a castcrew DataFrame based on the imdb_title_principals DataFrame to map names to their respective categories for movie titles.</li>\n",
    "    <li>Create usertag and genometag DataFrames using the MovieLens tag data.</li>\n",
    "</ul>"
   ]
  },
  {
   "cell_type": "markdown",
   "metadata": {},
   "source": [
    "Here we will run the steps outlined above:"
   ]
  },
  {
   "cell_type": "code",
   "execution_count": 6,
   "metadata": {},
   "outputs": [],
   "source": [
    "from datapipeline import MoviePipeline\n",
    "import logging\n",
    "pipeline = MoviePipeline()"
   ]
  },
  {
   "cell_type": "code",
   "execution_count": 7,
   "metadata": {},
   "outputs": [
    {
     "name": "stdout",
     "output_type": "stream",
     "text": [
      "Success\n"
     ]
    }
   ],
   "source": [
    "logging.info(\"Loading the IMDB data\")\n",
    "pipeline.read_imdb_source_files()\n",
    "\n",
    "logging.info(\"Loading the MovieLens data\")\n",
    "pipeline.read_movielens_source_files()\n",
    "\n",
    "logging.info(\"Running cleaning steps\")\n",
    "pipeline.clean_imdb_title_basics()\n",
    "pipeline.clean_ml_movies_title()\n",
    "pipeline.clean_ml_movies_genres()\n",
    "pipeline.clean_imdb_title_ids()\n",
    "pipeline.clean_imdb_name_ids()\n",
    "pipeline.clean_imdb_genres()\n",
    "pipeline.clean_movielens_ratings()\n",
    "print(\"Success\")"
   ]
  },
  {
   "cell_type": "markdown",
   "metadata": {
    "editable": true
   },
   "source": [
    "### Step 4: Run Pipelines to Model the Data \n",
    "#### 4.1 Create the Data Model"
   ]
  },
  {
   "cell_type": "markdown",
   "metadata": {},
   "source": [
    "1. First, let's create the movie DataFrame using information from imdb_title_basics. This is handled in the `create_movie_df` method."
   ]
  },
  {
   "cell_type": "markdown",
   "metadata": {},
   "source": [
    "2. Next we need to add ratings data from both the IMDB and MovieLens data sets and calculate the average the ratings between the two. This is handled in the `populate_movie_ratings` and `calculate_movie_ratings` methods."
   ]
  },
  {
   "cell_type": "markdown",
   "metadata": {},
   "source": [
    "3. Now let's create the `moviegenre` table by combining the genres from both data sets. This is done in the `create_moviegenre` method."
   ]
  },
  {
   "cell_type": "markdown",
   "metadata": {},
   "source": [
    "4. Next, we will compile the IMDB `name` file into the `name` table of our data model. This is handled in the `create_name_df` method."
   ]
  },
  {
   "cell_type": "markdown",
   "metadata": {},
   "source": [
    "5. Next we will create the `castcrew` table from the `imdb_title_principals_df` DataFrame. This is done in the `create_castcrew_df` method."
   ]
  },
  {
   "cell_type": "markdown",
   "metadata": {},
   "source": [
    "6. Next, we will create the usertag table based on the MovieLens `tags.csv` file. This is done in the `create_usertag_df`method."
   ]
  },
  {
   "cell_type": "markdown",
   "metadata": {},
   "source": [
    "7. Lastly, we will create the `genometag` table based on the MovieLens `genome-tags.csv` and `genome-scores` files. This is done in the `create_genometag_df` method."
   ]
  },
  {
   "cell_type": "markdown",
   "metadata": {},
   "source": [
    "Here we will run the steps to create the data model:"
   ]
  },
  {
   "cell_type": "code",
   "execution_count": 9,
   "metadata": {},
   "outputs": [
    {
     "name": "stdout",
     "output_type": "stream",
     "text": [
      "Success\n"
     ]
    }
   ],
   "source": [
    "logging.info(\"Creating the Data Model\")\n",
    "logging.info(\"Creating the movie DataFrame\")\n",
    "pipeline.create_movie_df()\n",
    "logging.info(\"Populating movie ratings\")\n",
    "pipeline.populate_movie_ratings()\n",
    "logging.info(\"Calculating average movie ratings\")\n",
    "pipeline.calculate_movie_ratings()\n",
    "logging.info(\"Creating the moviegenre DataFrame\")\n",
    "pipeline.create_moviegenre_df()\n",
    "logging.info(\"Creating the name DataFrame\")\n",
    "pipeline.create_name_df()\n",
    "logging.info(\"Creating the castcrew DataFrame\")\n",
    "pipeline.create_castcrew_df()\n",
    "logging.info(\"Creating the usertag DataFrame\")\n",
    "pipeline.create_usertag_df()\n",
    "logging.info(\"Creating the genometag DataFrame\")\n",
    "pipeline.create_genometag_df()\n",
    "print(\"Success\")"
   ]
  },
  {
   "cell_type": "markdown",
   "metadata": {},
   "source": [
    "#### 4.2 Repartition the Model"
   ]
  },
  {
   "cell_type": "markdown",
   "metadata": {},
   "source": [
    "Now let's repartition each DataFrame in order to improve performance when querying on the cluster. This is done in order to avoid shuffling between the nodes. Since the relationships between tables are defined between the `imdb_id` and `name_id` fields, we will use Spark's `repartitionByRange` method on those fields. This is done in the `repartition_model` method."
   ]
  },
  {
   "cell_type": "code",
   "execution_count": 10,
   "metadata": {},
   "outputs": [
    {
     "name": "stdout",
     "output_type": "stream",
     "text": [
      "Success\n"
     ]
    }
   ],
   "source": [
    "logging.info(\"Repartitioning the model DataFrames\")\n",
    "pipeline.repartition_model()\n",
    "print(\"Success\")"
   ]
  },
  {
   "cell_type": "markdown",
   "metadata": {
    "editable": true
   },
   "source": [
    "#### 4.3 Data Quality Checks\n",
    "The data quality checks we will run to check the integrity of our data after the pipeline has been run are as follows:\n",
    "<ul>\n",
    "    <li>Test that the movie table does not contain any blank or NULL ID values.</li>\n",
    "    <li>Test that the movie table does not contain any duplicate imdb_id values.</li>\n",
    "    <li>Test that the name table does not contain any blank or NULL ID values.</li>\n",
    "    <li>Test that the movie table does not contain any duplicate imdb_id values.</li>\n",
    "    <li>Test that the source IMDB movie file contains the same amount of records as in the movie table.</li>\n",
    "    <li>Test that the source IMDB name file contains the same amount of records as in the name table.</li>\n",
    "</ul>\n",
    "\n",
    "The following methods handle the above test cases:\n",
    "\n",
    "    test_movie_null_key\n",
    "    test_movie_unique_key\n",
    "    test_name_null_key\n",
    "    test_name_unique_key\n",
    "    test_movie_count\n",
    "    test_name_count"
   ]
  },
  {
   "cell_type": "code",
   "execution_count": 12,
   "metadata": {
    "tags": []
   },
   "outputs": [
    {
     "name": "stdout",
     "output_type": "stream",
     "text": [
      "Success\n"
     ]
    }
   ],
   "source": [
    "logging.info(\"Running Data Quality Checks\")\n",
    "pipeline.test_movie_null_key()\n",
    "pipeline.test_movie_unique_key()\n",
    "pipeline.test_name_null_key()\n",
    "pipeline.test_name_unique_key()\n",
    "pipeline.test_movie_count()\n",
    "pipeline.test_name_count()\n",
    "print(\"Success\")"
   ]
  },
  {
   "cell_type": "markdown",
   "metadata": {},
   "source": [
    "#### 4.4 Running the Pipeline on an EMR Cluster"
   ]
  },
  {
   "cell_type": "markdown",
   "metadata": {},
   "source": [
    "To run the pipeline on an EMR cluster, first copy `datapipeline.py` to your cluster's main node:\n",
    "\n",
    "    scp -i ./emrkeypair.pem ./datapipeline.py hadoop@ec2-xxx-xxx-xxx-xxx.us-west-1.compute.amazonaws.com:/home/hadoop/datapipeline.py"
   ]
  },
  {
   "cell_type": "markdown",
   "metadata": {},
   "source": [
    "Then run the job with the `spark-submit` command:\n",
    "    \n",
    "    spark-submit /home/hadoop/datapipeline.py"
   ]
  },
  {
   "cell_type": "markdown",
   "metadata": {},
   "source": [
    "Once the pipeline has been run successfully, the model is written out to parquet files under `s3://moviepipeline/output`."
   ]
  },
  {
   "cell_type": "code",
   "execution_count": 13,
   "metadata": {},
   "outputs": [
    {
     "name": "stdout",
     "output_type": "stream",
     "text": [
      "Success\n"
     ]
    }
   ],
   "source": [
    "logging.info(\"Writing output files\")\n",
    "pipeline.write_model()\n",
    "print(\"Success\")"
   ]
  },
  {
   "cell_type": "markdown",
   "metadata": {
    "editable": true
   },
   "source": [
    "#### 4.5 Data dictionary\n",
    "Below is a description of our data model's tables, each table's corresponding fields, and the sources of each field."
   ]
  },
  {
   "cell_type": "markdown",
   "metadata": {},
   "source": [
    "`movie`\n",
    "<ul>\n",
    "<li><strong>imdb_id</strong> - The unique IMDB movie title identifier. This is defined in the IMDB <i>title.basics.tsv</i> file.</li>\n",
    "<li><strong>title</strong> - The title of a movie. This comes from the <i>primaryTitle</i> field of the IMDB <i>title.basics.tsv</i> file.</li>\n",
    "<li><strong>release_year</strong> - The year the movie was released. This comes from the <i>startYear</i> field of the IMDB <i>title.basics.tsv</i> file.</li>\n",
    "<li><strong>length_minutes</strong> - The runtime length of the movie. This comes from the <i>runtimeMinutes</i> field of the IMDB <i>title.basics.tsv</i> file.</li>\n",
    "<li><strong>is_adult</strong> - A boolean field to determine if the movie is an adult title or not. This comes from the <i>isAdult</i> field of the IMDB <i>title.basics.tsv</i> file.</li>\n",
    "<li><strong>average_rating</strong> - The weighted average of user ratings. This is calculated using the data from IMDB's <i>title.ratings.tsv</i> file and from the MovieLens file <i>ratings.csv</i>.</li>    \n",
    "</ul>\n",
    "\n",
    "`moviegenre`\n",
    "<ul>\n",
    "<li><strong>imdb_id</strong> - The unique IMDB movie title identifier. This is defined in the IMDB <i>title.basics.tsv</i> file.</li>\n",
    "<li><strong>genre</strong> - A genre (Action, Adventure, etc.) that is applied to the movie. There can be more than one genre per movie in this table. This data comes from both IMDB's <i>title.basics.tsv</i> file and the MovieLens <i>movies.csv</i> file.</li>  \n",
    "</ul>\n",
    "\n",
    "`name`\n",
    "<ul>\n",
    "<li><strong>name_id</strong> - The unique identifier for an individual. This comes from the <i>nconst</i> field of the IMDB <i>name.basics.tsv</i> file.</li>\n",
    "<li><strong>name</strong> - The name (first and last combined) of the individual. This comes from the <i>primaryName</i> IMDB <i>name.basics.tsv</i> file.</li> \n",
    "<li><strong>birth_year</strong> - The year the individual was born. This comes from the <i>birthYear</i> field of the IMDB <i>name.basics.tsv</i> file.</li> \n",
    "<li><strong>death_year</strong> - The year that the invidual died (if deceased). This field will contain an '\\N' if the person is still alive. This comes from the <i>deathYear</i> field of the IMDB <i>name.basics.tsv</i> file.</li> \n",
    "</ul>\n",
    "\n",
    "`castcrew`\n",
    "<ul>\n",
    "<li><strong>name_id</strong> - The identifier for an individual. This comes from the <i>nconst</i> field in the IMDB <i>title.principals.tsv</i> file and is a relation to the <i>nconst</i> field of the IMDB <i>name.basics.tsv</i> file.</li>\n",
    "<li><strong>imdb_id</strong> - The movie identifier ID. This comes from the <i>tconst</i> field of the IMDB <i>title.principals.tsv</i> file and is a relation to the <i>tconst</i> field of the <i>title.basics.tsv</i> file.\n",
    "<li><strong>category</strong> - The corresponding category that the related individual played as part of the related movie title. For example, <i>director</i>, <i>cinematographer</i>, <i>composer</i>, etc.</li>\n",
    "</ul>\n",
    "\n",
    "`usertag`\n",
    "<ul>\n",
    "    <li><strong>imdb_id</strong> - This unique ID for the movie title. This is joined to the <i>movie</i> table via the <i>movieId</i> field of the MovieLens <i>links.csv</i> file.</li>\n",
    "    <li><strong>tag</strong> -The corresponding tag value given to the movie by a MovieLens user. For example, <i>epic</i>, <i>sci-fi</i>, etc. This comes from the <i>tag</i> field of the MovieLens <i>tags.csv</i></li>\n",
    "    <li><strong>timestamp</strong> -The timestamp value that the tag was assigned to the movie by a user. This comes from the <i>timestamp</i> field of the MovieLens <i>tags.csv</i> file.</li>\n",
    "</ul>\n",
    "\n",
    "`genometag`\n",
    "<ul>\n",
    "    <li><strong>imdb_id</strong> - This unique ID for the movie title. This is joined to the <i>movie</i> table via the <i>movieId</i> field of the MovieLens <i>links.csv</i> file.</li>\n",
    "    <li><strong>tag</strong> -The corresponding tag value given to the movie via a genome tagging algorithm. For example, <i>action</i>, <i>moody</i>, <i>spying</i>, etc. This comes from the <i>tag</i> field of the MovieLens <i>genome-tags.csv</i> file.</li>\n",
    "    <li><strong>relevance</strong> The relevance score given to the genome tag for the particular movie title by the MovieLens genome tagging algorithm. This comes from the <i>relevance</i> field of the MovieLens <i>genome-scores.csv</i> file.</li>\n",
    "</ul>"
   ]
  },
  {
   "cell_type": "markdown",
   "metadata": {},
   "source": [
    "#### 4.6 Sample Analysis\n",
    "Below are sample queries that can be run on the resulting model for data analysis purposes."
   ]
  },
  {
   "cell_type": "markdown",
   "metadata": {},
   "source": [
    "1. Find the 100 most popular movies by average user rating for the release year 2017."
   ]
  },
  {
   "cell_type": "code",
   "execution_count": 14,
   "metadata": {},
   "outputs": [],
   "source": [
    "OUTPUT_DIR = \"s3a://moviepipeline/output/\""
   ]
  },
  {
   "cell_type": "code",
   "execution_count": 17,
   "metadata": {},
   "outputs": [
    {
     "name": "stderr",
     "output_type": "stream",
     "text": [
      "[Stage 77:=============================>                            (3 + 3) / 6]\r"
     ]
    },
    {
     "name": "stdout",
     "output_type": "stream",
     "text": [
      "+--------+------------------------------------------------------------+------------+--------------+\n",
      "|imdb_id |title                                                       |release_year|average_rating|\n",
      "+--------+------------------------------------------------------------+------------+--------------+\n",
      "|7321288 |Thea: To somre, en vinter                                   |2017        |10.0          |\n",
      "|7828336 |Ccà                                                         |2017        |9.8           |\n",
      "|6641442 |Seven: Dedicated to Kiarostami and Ozu                      |2017        |9.7           |\n",
      "|6197624 |Walking While Black: L.O.V.E. is the Answer                 |2017        |9.6           |\n",
      "|6685014 |Charandas Chor                                              |2017        |9.6           |\n",
      "|10914894|Superstar                                                   |2017        |9.6           |\n",
      "|4033858 |The Barn Theatre: Tomorrow's Stars Today                    |2017        |9.5           |\n",
      "|6014396 |Do U Want It?                                               |2017        |9.5           |\n",
      "|6338720 |Babies: A Miracle                                           |2017        |9.5           |\n",
      "|6730328 |Defending the Fire                                          |2017        |9.5           |\n",
      "|4507568 |Parque Central                                              |2017        |9.4           |\n",
      "|5528558 |I Wish                                                      |2017        |9.4           |\n",
      "|5768980 |Burlesque Extravaganza                                      |2017        |9.4           |\n",
      "|6226458 |Garage Rockin' Craze                                        |2017        |9.4           |\n",
      "|6355382 |Ephemeral                                                   |2017        |9.4           |\n",
      "|6379662 |Angels Within                                               |2017        |9.4           |\n",
      "|6558976 |Palmyra                                                     |2017        |9.4           |\n",
      "|6616550 |Ram-Path                                                    |2017        |9.4           |\n",
      "|6711722 |The Quiet Triumph: How Arbitration Changed the World        |2017        |9.4           |\n",
      "|6867356 |One Angry Vegan                                             |2017        |9.4           |\n",
      "|7067028 |Beneath the Black: A Journey Through New Zealand Rugby      |2017        |9.4           |\n",
      "|7302010 |Taawdo the Sunlight                                         |2017        |9.4           |\n",
      "|7391952 |Genius Montis                                               |2017        |9.4           |\n",
      "|7464864 |Thalatta                                                    |2017        |9.4           |\n",
      "|7502248 |Balatkayo                                                   |2017        |9.4           |\n",
      "|8163662 |Dimevision 2: Roll with It or Get Rolled Over               |2017        |9.4           |\n",
      "|9450450 |Deadline                                                    |2017        |9.4           |\n",
      "|3746274 |Mama's Heart. Gongadze                                      |2017        |9.3           |\n",
      "|4514926 |Here We Are                                                 |2017        |9.3           |\n",
      "|4560374 |The Process                                                 |2017        |9.3           |\n",
      "|4604666 |Baby                                                        |2017        |9.3           |\n",
      "|5268678 |Unchained                                                   |2017        |9.3           |\n",
      "|6131300 |Colis Suspect                                               |2017        |9.3           |\n",
      "|6604894 |Shaun Barker: One More Time                                 |2017        |9.3           |\n",
      "|6818096 |Crohnprinsessen                                             |2017        |9.3           |\n",
      "|6868594 |Cabeza Madre                                                |2017        |9.3           |\n",
      "|6870298 |Barabar, Indian Ocean Redemption                            |2017        |9.3           |\n",
      "|6961914 |Back to Dad                                                 |2017        |9.3           |\n",
      "|7053290 |Hugo: A Hidden Past Revealed                                |2017        |9.3           |\n",
      "|7234406 |hitched                                                     |2017        |9.3           |\n",
      "|7292828 |Made in Vietnam                                             |2017        |9.3           |\n",
      "|7318364 |Behind the Album: The Performances                          |2017        |9.3           |\n",
      "|7444748 |When I Stutter                                              |2017        |9.3           |\n",
      "|7476472 |Point of No Return                                          |2017        |9.3           |\n",
      "|7504492 |Scantraxx: 15 Years of Hardstyle                            |2017        |9.3           |\n",
      "|7545950 |On the Record: Niall Horan - Flicker                        |2017        |9.3           |\n",
      "|7650360 |Black Snake Killaz: A #NoDAPL Story                         |2017        |9.3           |\n",
      "|7793002 |Guerrero                                                    |2017        |9.3           |\n",
      "|5759506 |Avec l'amour                                                |2017        |9.2           |\n",
      "|3381790 |Norooz, Somewhere Else                                      |2017        |9.2           |\n",
      "|3633296 |My Name Is Pedro                                            |2017        |9.2           |\n",
      "|3729268 |The Goddess Project                                         |2017        |9.2           |\n",
      "|3741818 |Sweet Parents                                               |2017        |9.2           |\n",
      "|3920118 |Avenues of Escape                                           |2017        |9.2           |\n",
      "|4085940 |When They Awake                                             |2017        |9.2           |\n",
      "|4661884 |Between the Shades                                          |2017        |9.2           |\n",
      "|5265976 |Nuyorican Básquet                                           |2017        |9.2           |\n",
      "|5645734 |Bhanwar                                                     |2017        |9.2           |\n",
      "|5757986 |The Oyster Farmers                                          |2017        |9.2           |\n",
      "|5848362 |Evolution of Organic                                        |2017        |9.2           |\n",
      "|5989408 |Trial by Fire                                               |2017        |9.2           |\n",
      "|6106738 |Guidance through the Black Hole                             |2017        |9.2           |\n",
      "|6228308 |Kiumeni                                                     |2017        |9.2           |\n",
      "|7214598 |Land of Hope and Glory                                      |2017        |9.2           |\n",
      "|6442942 |Romeo                                                       |2017        |9.2           |\n",
      "|6780706 |We Are EC: The Untold Story of East Chicago Basketball      |2017        |9.2           |\n",
      "|6790150 |Karajan: the Maestro and His Festival                       |2017        |9.2           |\n",
      "|6923248 |Kirtland: America's Sacred Ground                           |2017        |9.2           |\n",
      "|7034904 |Acoustic Uprising                                           |2017        |9.2           |\n",
      "|7122920 |Paz, Amor, y Musica the Alex Ruiz Story                     |2017        |9.2           |\n",
      "|7139110 |Switch                                                      |2017        |9.2           |\n",
      "|7183056 |Roy Orbison: Black and White Night 30                       |2017        |9.2           |\n",
      "|7223270 |Something Quite Peculiar: The Life and Times of Steve Kilbey|2017        |9.2           |\n",
      "|7256662 |Álmatlan: Dreamless                                         |2017        |9.2           |\n",
      "|7285370 |All the Other Days                                          |2017        |9.2           |\n",
      "|7292796 |Angelo Unwritten                                            |2017        |9.2           |\n",
      "|7441796 |Okeana Savilnotie                                           |2017        |9.2           |\n",
      "|7456158 |Una Historia Necesaria                                      |2017        |9.2           |\n",
      "|7578850 |Little Mix: Glory Days - The Documentary                    |2017        |9.2           |\n",
      "|7609002 |Just for Graphs                                             |2017        |9.2           |\n",
      "|7640120 |Otvorenih ociju                                             |2017        |9.2           |\n",
      "|7845882 |Fall Semester                                               |2017        |9.2           |\n",
      "|7852572 |Making Good Men                                             |2017        |9.2           |\n",
      "|13982552|Maestro. Alla ricerca della musica nei campi.               |2017        |9.2           |\n",
      "|3484292 |No Appointment Necessary                                    |2017        |9.1           |\n",
      "|3766102 |Listen                                                      |2017        |9.1           |\n",
      "|3814566 |Fame Us                                                     |2017        |9.1           |\n",
      "|4885752 |The Hero Chiyou                                             |2017        |9.1           |\n",
      "|5586700 |El Callejón                                                 |2017        |9.1           |\n",
      "|5709630 |Left on Pearl                                               |2017        |9.1           |\n",
      "|6058448 |Psychic Murder                                              |2017        |9.1           |\n",
      "|6094934 |Sardari's Enigma                                            |2017        |9.1           |\n",
      "|6095002 |Fade to Black                                               |2017        |9.1           |\n",
      "|6128082 |Chamber Music Wonderland                                    |2017        |9.1           |\n",
      "|6495800 |Here's to Life: The Story of The Refreshments               |2017        |9.1           |\n",
      "|6563582 |To Be Alone                                                 |2017        |9.1           |\n",
      "|6619548 |Man at Home                                                 |2017        |9.1           |\n",
      "|6862154 |My Human Self                                               |2017        |9.1           |\n",
      "|6948198 |Comment Awards: The Movie                                   |2017        |9.1           |\n",
      "|6979730 |Terrorvision: Wired Up and Scary                            |2017        |9.1           |\n",
      "+--------+------------------------------------------------------------+------------+--------------+\n",
      "\n"
     ]
    },
    {
     "name": "stderr",
     "output_type": "stream",
     "text": [
      "                                                                                \r"
     ]
    }
   ],
   "source": [
    "movie_df = spark.read.parquet(os.path.join(OUTPUT_DIR, \"movie.parquet\"))\n",
    "movie_df.createOrReplaceTempView(\"movie_df\")\n",
    "\n",
    "popular_movies = spark.sql(\n",
    "    \"\"\"\n",
    "    SELECT \n",
    "        imdb_id,\n",
    "        title,\n",
    "        release_year,\n",
    "        average_rating\n",
    "    FROM movie_df\n",
    "    WHERE release_year = '2017'\n",
    "    AND average_rating IS NOT NULL\n",
    "    ORDER BY average_rating desc\n",
    "    LIMIT 100\n",
    "    \"\"\"\n",
    ")\n",
    "popular_movies.show(100, False)"
   ]
  },
  {
   "cell_type": "markdown",
   "metadata": {},
   "source": [
    "2. Find the 20 most popular genres based on average user ratings for the release year 2017."
   ]
  },
  {
   "cell_type": "code",
   "execution_count": 18,
   "metadata": {},
   "outputs": [
    {
     "name": "stdout",
     "output_type": "stream",
     "text": [
      "+------------------+----------+\n",
      "|             genre|avg_rating|\n",
      "+------------------+----------+\n",
      "|       Documentary|       7.2|\n",
      "|              News|      7.18|\n",
      "|         Game-Show|       7.0|\n",
      "|         Biography|      6.94|\n",
      "|           History|      6.79|\n",
      "|             Music|      6.74|\n",
      "|              IMAX|      6.71|\n",
      "|         Talk-Show|      6.62|\n",
      "|         Film-Noir|       6.6|\n",
      "|             Sport|       6.6|\n",
      "|             Short|      6.55|\n",
      "|               War|      6.46|\n",
      "|             Drama|      6.23|\n",
      "|         Animation|      6.23|\n",
      "|           Musical|      6.22|\n",
      "|            Family|       6.2|\n",
      "|(no genres listed)|      6.16|\n",
      "|          Children|      6.15|\n",
      "|           Romance|      6.09|\n",
      "|             Crime|      5.99|\n",
      "+------------------+----------+\n",
      "\n"
     ]
    }
   ],
   "source": [
    "moviegenre_df = spark.read.parquet(os.path.join(OUTPUT_DIR, \"moviegenre.parquet\"))\n",
    "moviegenre_df.createOrReplaceTempView(\"moviegenre_df\")\n",
    "\n",
    "popular_genres = spark.sql(\n",
    "    \"\"\"\n",
    "    SELECT \n",
    "        mg.genre,\n",
    "        ROUND(AVG(m.average_rating), 2) as avg_rating\n",
    "    FROM movie_df m\n",
    "    INNER JOIN moviegenre_df mg on (m.imdb_id = mg.imdb_id)\n",
    "    GROUP BY mg.genre\n",
    "    ORDER by avg_rating DESC\n",
    "    LIMIT 20\n",
    "    \"\"\"\n",
    ")\n",
    "popular_genres.show(20)"
   ]
  },
  {
   "cell_type": "markdown",
   "metadata": {},
   "source": [
    "3. Explore the user tags for movies with ratings greater than or equal to 9.0"
   ]
  },
  {
   "cell_type": "code",
   "execution_count": 19,
   "metadata": {},
   "outputs": [
    {
     "name": "stdout",
     "output_type": "stream",
     "text": [
      "+--------------------+---------+\n",
      "|                 tag|tag_count|\n",
      "+--------------------+---------+\n",
      "|             classic|      299|\n",
      "|      Morgan Freeman|      293|\n",
      "|   thought-provoking|      223|\n",
      "|              prison|      203|\n",
      "|       prison escape|      195|\n",
      "|        great acting|      187|\n",
      "|        twist ending|      176|\n",
      "|       inspirational|      176|\n",
      "|               Mafia|      166|\n",
      "|        Heath Ledger|      164|\n",
      "|              Batman|      147|\n",
      "|           Al Pacino|      146|\n",
      "|          friendship|      146|\n",
      "|     organized crime|      132|\n",
      "|           superhero|      127|\n",
      "|          psychology|      120|\n",
      "|        Stephen King|      119|\n",
      "|         atmospheric|      118|\n",
      "|                dark|      112|\n",
      "|      Christian Bale|      110|\n",
      "|        great ending|      106|\n",
      "|               crime|      106|\n",
      "|               drama|      103|\n",
      "|     based on a book|      103|\n",
      "|        imdb top 250|      101|\n",
      "|             justice|      100|\n",
      "|       good dialogue|       88|\n",
      "|            violence|       86|\n",
      "|              action|       82|\n",
      "|                hope|       80|\n",
      "|   Christopher Nolan|       78|\n",
      "|         Atmospheric|       77|\n",
      "|          reflective|       77|\n",
      "|   social commentary|       71|\n",
      "|       Marlon Brando|       64|\n",
      "|            thriller|       62|\n",
      "|     powerful ending|       58|\n",
      "|     courtroom drama|       58|\n",
      "|         masterpiece|       58|\n",
      "|Oscar (Best Picture)|       57|\n",
      "|             revenge|       52|\n",
      "|    group psychology|       51|\n",
      "|               mafia|       50|\n",
      "|              gritty|       49|\n",
      "|        heartwarming|       49|\n",
      "|       Michael Caine|       48|\n",
      "|          comic book|       46|\n",
      "|         Tim Robbins|       45|\n",
      "|            narrated|       45|\n",
      "|            stylized|       42|\n",
      "|       serial killer|       42|\n",
      "|           vigilante|       42|\n",
      "|      robert de niro|       41|\n",
      "|         Gary Oldman|       38|\n",
      "|oscar (best direc...|       37|\n",
      "|       ensemble cast|       37|\n",
      "|          redemption|       33|\n",
      "|           courtroom|       33|\n",
      "|Francis Ford Coppola|       33|\n",
      "|              racism|       32|\n",
      "|Oscar (Best Suppo...|       31|\n",
      "|         sentimental|       30|\n",
      "|               music|       30|\n",
      "|      morgan freeman|       29|\n",
      "|          low budget|       29|\n",
      "|             violent|       28|\n",
      "|    great screenplay|       28|\n",
      "|               Joker|       27|\n",
      "|wrongful imprison...|       27|\n",
      "|      Robert De Niro|       27|\n",
      "|     confrontational|       26|\n",
      "|    Nudity (Topless)|       25|\n",
      "|              family|       25|\n",
      "|          melancholy|       24|\n",
      "|         Henry Fonda|       22|\n",
      "| Comic Book adaption|       22|\n",
      "|    based on a comic|       22|\n",
      "|          corruption|       21|\n",
      "|      cinematography|       21|\n",
      "|     dialogue driven|       20|\n",
      "|       New York City|       20|\n",
      "|           DC Comics|       19|\n",
      "|     surprise ending|       18|\n",
      "|              escape|       18|\n",
      "|       all-male cast|       18|\n",
      "|            touching|       18|\n",
      "|           feel-good|       17|\n",
      "|       italian mafia|       17|\n",
      "|  great performances|       17|\n",
      "|        prison break|       17|\n",
      "|   Maggie Gyllenhaal|       17|\n",
      "|   adapted from:book|       16|\n",
      "|            too long|       16|\n",
      "|oscar (best picture)|       16|\n",
      "|              murder|       16|\n",
      "|           inspiring|       16|\n",
      "|           overrated|       15|\n",
      "|          good story|       15|\n",
      "|         good acting|       14|\n",
      "|  complex characters|       14|\n",
      "+--------------------+---------+\n",
      "only showing top 100 rows\n",
      "\n"
     ]
    }
   ],
   "source": [
    "usertag_df = spark.read.parquet(os.path.join(OUTPUT_DIR, \"usertag.parquet\"))\n",
    "usertag_df.createOrReplaceTempView(\"usertag_df\")\n",
    "\n",
    "popular_tags = spark.sql(\n",
    "    \"\"\"\n",
    "    SELECT \n",
    "        tag,\n",
    "        COUNT(*) as tag_count\n",
    "    FROM usertag_df ut\n",
    "    INNER JOIN movie_df m on (ut.imdb_id = m.imdb_id)\n",
    "    WHERE m.average_rating >= 9.0\n",
    "    GROUP BY tag\n",
    "    ORDER BY tag_count DESC\n",
    "    \"\"\"\n",
    ")\n",
    "popular_tags.show(100)"
   ]
  },
  {
   "cell_type": "markdown",
   "metadata": {},
   "source": [
    "4. The scope of this project was to use a data set containing at least a million rows. We can see that there were over a million tags that were assigned by users to titles in the MovieLens data:"
   ]
  },
  {
   "cell_type": "code",
   "execution_count": 20,
   "metadata": {},
   "outputs": [
    {
     "name": "stdout",
     "output_type": "stream",
     "text": [
      "+--------+\n",
      "|count(1)|\n",
      "+--------+\n",
      "| 1108997|\n",
      "+--------+\n",
      "\n"
     ]
    }
   ],
   "source": [
    "tag_count = spark.sql(\n",
    "    \"\"\"\n",
    "    SELECT count(*) from usertag_df\n",
    "    \"\"\"\n",
    ")\n",
    "tag_count.show()"
   ]
  },
  {
   "cell_type": "markdown",
   "metadata": {},
   "source": [
    "As well as close to 600,000 movie titles:"
   ]
  },
  {
   "cell_type": "code",
   "execution_count": 21,
   "metadata": {},
   "outputs": [
    {
     "name": "stdout",
     "output_type": "stream",
     "text": [
      "+--------+\n",
      "|count(1)|\n",
      "+--------+\n",
      "|  590009|\n",
      "+--------+\n",
      "\n"
     ]
    }
   ],
   "source": [
    "movie_count = spark.sql(\n",
    "    \"\"\"\n",
    "    SELECT count(*) from movie_df\n",
    "    \"\"\"\n",
    ")\n",
    "movie_count.show()"
   ]
  },
  {
   "cell_type": "markdown",
   "metadata": {},
   "source": [
    "And there are over 11 million names of cast and crew members:"
   ]
  },
  {
   "cell_type": "code",
   "execution_count": 22,
   "metadata": {},
   "outputs": [
    {
     "name": "stdout",
     "output_type": "stream",
     "text": [
      "+--------+\n",
      "|count(1)|\n",
      "+--------+\n",
      "|11273203|\n",
      "+--------+\n",
      "\n"
     ]
    }
   ],
   "source": [
    "name_df = spark.read.parquet(os.path.join(OUTPUT_DIR, \"name.parquet\"))\n",
    "name_df.createOrReplaceTempView(\"name_df\")\n",
    "name_count = spark.sql(\n",
    "    \"\"\"\n",
    "    SELECT count(*) from name_df\n",
    "    \"\"\"\n",
    ")\n",
    "name_count.show()"
   ]
  },
  {
   "cell_type": "markdown",
   "metadata": {
    "editable": true
   },
   "source": [
    "#### Step 5: Project Write-Up\n",
    "<strong>Clearly state the rationale for the choice of tools and technologies for the project.</strong>\n",
    "\n",
    "For this project, Spark was chosen to build the pipeline. This is primarily because the Spark 'schema-on-read' ecosystem allows for flexible modeling, as well as the built-in functionality to cleanly parse, join, modify and combine data from multiple sources. This approach has advantages over using a traditional data warehouse due to less intensive setup, more flexibility to modify the schema, and also the ability to scale horizontally when the data grows. \n",
    "\n",
    "<strong>Propose how often the data should be updated and why.</strong>\n",
    "\n",
    "Since new movies are usually released on a weekly basis, the movie titles of this pipeline should most likely be updated weekly. The user scores from MovieLens should be updated more often, perhaps on a daily basis, to keep track of trends for popular movies. \n",
    "\n",
    "<strong>Write a description of how you would approach the problem differently under the following scenarios:</strong>\n",
    "\n",
    "<strong><i>The data was increased by 100x.</i></strong>\n",
    "\n",
    "The pipeline was built to read entire files rather than incremental updates. If the data were to increase by 100 times, it would be much more prudent to incrementally update the data by timestamp and/or daily files rather than process the entire pipeline every time the source data is updated. If incremental updates were to be set up, we would also need to keep the IMDB and MovieLens individual ratings values (number of ratings and average rating) in the data model, in order to be able to recalculate the overall average rating when new ratings are available in the source data. \n",
    " \n",
    "<strong><i>The data populates a dashboard that must be updated on a daily basis by 7am every day.</i></strong>\n",
    " \n",
    "If the pipeline was needed to be completed to populate a business dashboard every day, the best approach would be to use the code in the notebook to create a DAG in Airflow. This DAG could be set up to run with a specific SLA to complete by a certain time every night, and page the Data Engineering team if it did not complete or if there was an error.\n",
    " \n",
    "<strong><i>The database needed to be accessed by 100+ people.</i></strong>\n",
    " \n",
    "If the data needed to be accessed by over 100 people, then it would be a good decision to export the pipeline's results into a Data Warehouse such as Amazon Redshift. This is because the database system can handle multiple connections for querying the data or power the backend to a BI dashboard application."
   ]
  }
 ],
 "metadata": {
  "kernelspec": {
   "display_name": "Python 3 (ipykernel)",
   "language": "python",
   "name": "python3"
  },
  "language_info": {
   "codemirror_mode": {
    "name": "ipython",
    "version": 3
   },
   "file_extension": ".py",
   "mimetype": "text/x-python",
   "name": "python",
   "nbconvert_exporter": "python",
   "pygments_lexer": "ipython3",
   "version": "3.9.6"
  }
 },
 "nbformat": 4,
 "nbformat_minor": 4
}
